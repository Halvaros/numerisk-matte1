{
 "cells": [
  {
   "cell_type": "markdown",
   "metadata": {
    "collapsed": true
   },
   "source": [
    "# Prosjekt 1 Numerisk matematikk\n",
    "## Problem 1.1\n",
    "For en gitt vektornorm $\\left\\lVert \\cdot \\right\\rVert_{V}$, kan vi definere en indusert matrisenorm \n",
    "\n",
    "$$\\left\\lVert A \\right\\rVert_M = sup_{x \\neq 0} \\frac{\\left\\lVert Ax \\right\\rVert_V}{\\left\\lVert x \\right\\rVert_V}.$$ \n",
    "\n",
    "Det er mulig å vise at for den euklidiske vektornormen tilfredstiller den korresponderende induserte normen følgende relasjon: \n",
    "\n",
    "$$\\left\\lVert A \\right\\rVert_2 = \\sqrt{\\rho(A^T A)}, \\text{hvor } \\rho(M) \\text{ er spektralradien til matrisen } M $$\n",
    "\n",
    "## sett inn bevis her\n",
    "\n",
    "Vi noterer videre at for to matriser $ A \\in {\\rm I\\!R}^{m x n}$ og $B \\in {\\rm I\\!R}^{n x m}$ er CITE\n",
    "\n",
    "\n",
    "$$\n",
    "\\sigma(AB)\\setminus \\{0\\}= \\sigma(BA)\\setminus \\{0\\} \\Rightarrow \\rho(AB) = \\rho(BA)\n",
    "$$\n",
    "Dette gir at \n",
    "$$\\left\\lVert u v^T \\right\\rVert_2 = \\sqrt{\\rho((u v^T)^T u v^T)} = \\sqrt{\\rho(v u^T u v^T)} = \\sqrt{\\left\\lVert u \\right\\rVert_{2}^2\\rho(v v^T)} = \\left\\lVert u \\right\\rVert_{2}\\sqrt{\\rho(v v^T),}$$\n",
    "der $\\rho(vv^T) = \\rho(v^T v) = \\left\\lVert v \\right\\rVert_{2}^{2} \\rho(I_1) = \\left\\lVert v \\right\\rVert_{2}^{2}$. Vi bruker at egenverdien til identitetsmatrisen er 1. Innsatt i uttrykket ovenfor gir dette følgende relasjon\n",
    "\n",
    "$$\n",
    "    \\left\\lVert uv^T \\right\\rVert_{2} = \\left\\lVert u \\right\\rVert_{2} \\left\\lVert v \\right\\rVert_{2}, \\quad\\quad \\text{ q.e.d.}\n",
    "$$"
   ]
  },
  {
   "cell_type": "markdown",
   "metadata": {},
   "source": [
    "## Problem 1.2a\n",
    "En symmetrisk matrise $A \\in {\\rm I\\!R}^{n x n}$ er en matrise som oppfyller $A = A^T$.  Uttrykket for den induserte matrisenormen $\\left\\lVert \\cdot \\right\\rVert_2$ blir dermed\n",
    "\n",
    "$$\n",
    "\\left\\lVert A \\right\\rVert_2 = \\sqrt{\\rho(A^T A)} = \\sqrt{\\rho(A^2)}.\n",
    "$$\n",
    "Gitt at $v$ er en egenvektor av $A$, har vi at $A^2v = A\\lambda v = \\lambda^2 v$. Dermed er enhver egenvektor av $A$ samtidig en egenvektor av $A^2$, med korresponderende egenverdi $\\lambda ^2$. \n",
    "\n",
    "En symmetrisk matrise kan danne en basis $\\big\\{B\\big\\}$ bestående av ortogonale egenvektorer som genererer ${\\rm I\\!R}^n$. En vilkårlig vektor $u$ i ${\\rm I\\!R}^{n}$ kan dermed dekomponeres med hensyn på $\\big\\{B\\big\\}$ og skrives på formen $u = c_1 v_1 + c_2 v_2 ... + c_n v_2$, der $v_i \\in \\big\\{B\\big\\}$ for $i = 1,...,n$. Antar vi nå at $A$ minst har 2 distinkte egenverdier og at $u$ ikke er en egenvektor av $A$, kan vi skrive \n",
    "\n",
    "$$\n",
    "A^2 (v) = A^2(c_1 v_1 + c_2 v_2 + ... + c_n v_2) = \\lambda_1^2 c_1 v_1 + \\lambda_2^2 c_2 v_2 + ... + \\lambda_n^2 c_n v_2 \\neq \\lambda (c_1 v_1 + c_2 v_2 + ... + c_n v_2),\n",
    "$$\n",
    "for en vilkårlig $\\lambda \\in {\\rm I\\!R}$. Som følge av at $u$ ikke er en egenvektor av $A$, må minst 2 av komponentene i dekomposisjonen på $\\big\\{B\\big\\}$ tilhøre ortogonale vektorer, $v_i$ og $v_j$, med ulike egenverdier. Dette gir at komponentene til $v_i$ og $v_j$ skaleres ulikt i transformasjonen, og $u$ og $A^2 u$ er lineært uavhengige. \n",
    "## enklere måte å komme frem til samme resultat\n",
    "Dermed har $A^2$ ingen andre egenverdier enn de som korresponderer til basisen $\\big\\{B\\big\\}$, altså egenvektorene til $A$. En enklere måte å komme frem til dette resultat er å notere at $A^2$ er symmetrisk og har maksimalt $n$ ortogonale egenvektorer. Vi kan ikke ha et egenrom utover de som genereres av vektorer i B, da dette impliserer at det eksisterer ytterligere ortogonale vektorer, som er umulig. Det følger at egenrommene og deres geometriske multiplisiteter er for $A^2$ de samme som for $A$. Og $\\rho(A^2) = \\rho(A)^2$. Innsatt i uttrykket for matrisenormen får vi \n",
    "\n",
    "$$\\left\\lVert A \\right\\rVert_2 = \\sqrt{\\rho(A)^2} = \\rho(A), \\quad \\text{q.e.d.}$$ \n",
    "\n",
    "## Problem 1.2b\n",
    "Kondisjonstallet \n",
    "\n",
    "$$\n",
    "\\kappa_2(A)= \\left\\lVert A \\right\\rVert_2 \\left\\lVert \\text{inv}(A) \\right\\rVert_2\n",
    "$$\n",
    "At to matriser $B_1$ og $B_2$ er 'similar' eller like betyr at vi kan skrive $B_2$ som et matriseprodukt av $B_2$ og én inverterbar matrise $U$ samt dens invers, på formen\n",
    "$$\n",
    "B_2 = U^{-1}B_1U.\n",
    "$$\n",
    "At $B_1$ og $B_2$ er similar medfører at de har felles egenverdier. CITE\n",
    "\n",
    "Antar fremdeles at $A$ er symmetrisk/(hermitesk). Det betyr at $A$ \"unitarily similar\" en diagonal reell matrise $D$, med egenverdier på diagonalelementene. At de er unitært similære tilsier at $U^{-1}U = I_n$. CITE. Vi kan skrive den inverse av $D$ som\n",
    "\n",
    "$$\n",
    "D^{-1} = (U^{-1}AU)^{-1} = UA^{-1}U^{-1} \\Rightarrow (U^{-1})^{-1}A^{-1}U^{-1} = \\text{diag}(1/\\lambda_1, ..., 1/\\lambda_n).\n",
    "$$\n",
    "\n",
    "Vi ser at $A^{-1}$ er unitært similær med den inverse av $D$, som impliserer at spektralradien av den inverse er lik den inverse av den laveste egenverdien til $A$. Resutatet som følger er:\n",
    "$$\n",
    "\\kappa(A) = \\left\\lVert A \\right\\rVert_2 \\left\\lVert \\text{inv}(A) \\right\\rVert_2 = \\frac{\\lvert\\lambda_{max}\\lvert}{\\lvert\\lambda_{min}\\lvert}, \\quad \\text{q.e.d.}\n",
    "$$\n",
    "\n",
    "## Problem 1.3 \n",
    "Den inverse av den øvre triangulære matrisen $T$ med $a_{ij} = 0$ for $i > j$, og $a_{ij}= 1$ for alle andre $(i,j)$ tilsvarer en \"permutasjonsmatrise\" som subtraherer rad i+1 fra rad i, med elementer $b_{ii} = 1$ og $b_{k,k+1} = -1$ for $i = 1,..,n$ og $k = 1,..,n-1$. Ettersom både $T$ og $T^{-1}$ er øvre triangulære matriser finner vi alle egenverdiene på diagonalelementene, som er 1 $\\Rightarrow$ $\\frac{\\lvert\\lambda_{max}\\lvert}{\\lvert\\lambda_{min}\\lvert} = 1.$\n",
    "\n",
    "Verdier av matrisenormer for $A \\in {\\rm I\\!R}^{n x n}$ indusert av $p$-norm er oppgitt som\n",
    "\n",
    "$$\n",
    "\\left\\lVert A \\right\\rVert_1= \\text{max}_j \\Sigma_{i = 1}^{n}\\lvert a_{ij} \\lvert \\text{ for $j = 1,..,n$ } \\quad \\text{ og }\\quad \\left\\lVert A \\right\\rVert_\\infty= \\text{max}_i \\Sigma_{j = 1}^{n}\\lvert a_{ij} \\lvert \\text{ for $i = 1,..,n$, }\n",
    "$$\n",
    "for $p = 1$ og $p = \\infty$. De er henholdsvis maksverdiene av kolonnevis og radvis modulsum. Vi ser klart i dette tilfellet at $\\left\\lVert A \\right\\rVert_1 = \\left\\lVert A \\right\\rVert_\\infty = n$ og $\\left\\lVert A^{-1} \\right\\rVert_1 = \\left\\lVert A^{-1} \\right\\rVert_\\infty = 2$, som gir oss resultatet\n",
    "\n",
    "$$\n",
    "\\kappa_1(A)= \\kappa_\\infty(A)= 2 n\n",
    "$$"
   ]
  },
  {
   "cell_type": "code",
   "execution_count": 14,
   "metadata": {
    "scrolled": false
   },
   "outputs": [
    {
     "data": {
      "image/png": "[encoded data removed]",
      "text/plain": [
       "<matplotlib.figure.Figure at 0x270ab07a390>"
      ]
     },
     "metadata": {},
     "output_type": "display_data"
    }
   ],
   "source": [
    "import numpy as np\n",
    "import matplotlib.pyplot as plt\n",
    "n = 100\n",
    "Anrms = np.empty([n,])\n",
    "Aneig = np.empty([n,])\n",
    "An1   = np.empty([n,])\n",
    "Aninf = np.empty([n,])\n",
    "for k1 in range(n):\n",
    "    k=k1+1\n",
    "    A = np.triu(np.ones(k)) # Set up the upper triangular matrix described Anrms[k1]=np.linalg.norm(A,2)\n",
    "    \"\"\"Ainv = np.zeros_like(A)\n",
    "    Ainv[n-1,n-1] = 1\n",
    "    for i in range(n-1):\n",
    "        Ainv[i,i] = 1\n",
    "        Ainv[i,i+1] = -1\n",
    "    \"\"\"\n",
    "    lammax = max(np.linalg.eigvals(A)) \n",
    "    lammin = min(np.linalg.eigvals(A))\n",
    "    Anrms[k1]=np.linalg.cond(A,2)\n",
    "    An1[k1] = np.linalg.cond(A,1)\n",
    "    Aninf[k1] = np.linalg.cond(A,np.inf)\n",
    "    Aneig[k1]= lammax/lammin\n",
    "    \"\"\"Anrms[k1]=np.linalg.norm(A,2)\n",
    "    An1[k1] = np.linalg.norm(A,1)\n",
    "    Aninf[k1] = np.linalg.norm(A,np.inf)\n",
    "    Aneig[k1]= lammax/lammin\"\"\"\n",
    "nn=np.linspace(1,n,n)\n",
    "plt.figure()\n",
    "plt.title(\"Beregnede kondisjonstall\")\n",
    "plt.plot(nn,Anrms,'r-', nn,Aneig,'g-', nn,An1,'b-', nn,Aninf,'y--')\n",
    "plt.xlabel(\"$n$\")\n",
    "plt.ylabel(\"$\\kappa_p(A)$\")\n",
    "plt.grid()\n",
    "plt.legend((\"$\\kappa_2(A)$\", \"$\\lambda_{max}/\\lambda_{min}$\", \"$\\kappa_1(A)$\", \"$\\kappa_\\infty(A)$\"))\n",
    "#plt.legend('Beregnet kondisjonstall', 'Symmetrisk kondisjonstall')\n",
    "\n",
    "plt.show()"
   ]
  },
  {
   "cell_type": "markdown",
   "metadata": {},
   "source": [
    "## Oppgave 1.4\n",
    "En øvre skranke for en vektornorm av den relative forskyvningen av $x$ for det perturberte systemet\n",
    "\n",
    "$$\n",
    "(A + \\delta A) \\cdot (x + \\delta x) = b + \\delta b,\n",
    "$$\n",
    "er gitt som \n",
    "\n",
    "$$\n",
    "\\frac{\\left\\lVert \\delta x \\right\\rVert}{\\left\\lVert x \\right\\rVert} \\leq \\frac{\\kappa(A)}{1 - \\kappa(A)\\frac{\\left\\lVert \\delta A \\right\\rVert}{\\left\\lVert A \\right\\rVert}}\\Big( \\frac{\\left\\lVert \\delta b \\right\\rVert}{\\left\\lVert b \\right\\rVert} + \\frac{\\left\\lVert \\delta A \\right\\rVert}{\\left\\lVert A \\right\\rVert}\\Big).\n",
    "$$\n",
    "\n",
    "$A \\in R$ er antatt invertibel, $x \\in R$ og $b \\in rn$. Om vi antar $\\delta A = 0$, reduseres ulikheten over til\n",
    "\n",
    "$$\n",
    "\\frac{\\left\\lVert \\delta x \\right\\rVert}{\\left\\lVert x \\right\\rVert} \\leq \n",
    "\\kappa (A) \\frac{\\left\\lVert \\delta b \\right\\rVert}{\\left\\lVert b \\right\\rVert},\n",
    "$$\n",
    "hvor videre manipulasjon gir en nedre skranke for kondisjonstallet\n",
    "$$\n",
    "\\frac{\\left\\lVert \\delta x \\right\\rVert}{\\left\\lVert x \\right\\rVert} \\cdot \\frac{\\left\\lVert b \\right\\rVert}{\\left\\lVert \\delta b \\right\\rVert}\\leq \n",
    "\\kappa (A) . \n",
    "$$\n"
   ]
  },
  {
   "cell_type": "code",
   "execution_count": 28,
   "metadata": {},
   "outputs": [
    {
     "name": "stdout",
     "output_type": "stream",
     "text": [
      "Valgt vektornorm: 2-norm\n",
      "Norm b = 1.98029863695\n",
      "Norm x = 2.9914197886\n",
      "Kond A = 13.2320298125\n",
      "Estimat kondisjonstall: 1.2628093023\n",
      "Kondisjonstall/estimat: 10.4782486068\n"
     ]
    }
   ],
   "source": [
    "import numpy as np\n",
    "import matplotlib as plt\n",
    "\n",
    "n = 10\n",
    "norm = 2\n",
    "rb = 2*np.random.rand(n) - 1\n",
    "A = np.triu(np.ones(n))\n",
    "x = np.linalg.solve(A,rb)\n",
    "normrb = np.linalg.norm(rb,norm)\n",
    "normx = np.linalg.norm(x,norm)\n",
    "condA2 = np.linalg.cond(A,norm)\n",
    "\n",
    "print(\"Valgt vektornorm: \"+str(norm)+\"-norm\")\n",
    "print(\"Norm b =\", normrb)\n",
    "print(\"Norm x =\", normx)\n",
    "print(\"Kond A =\", condA2)\n",
    "\n",
    "NEXPS = 1002\n",
    "kappa_est = 0\n",
    "\n",
    "for k in range(NEXPS):\n",
    "    db = 0.2*np.random.rand(n) - 0.1\n",
    "    #db = *np.random.rand(n) \n",
    "    dx = np.linalg.solve(A,db)\n",
    "    kappa_c = (np.linalg.norm(dx,norm) / np.linalg.norm(x,norm)) * (np.linalg.norm(rb,norm)/np.linalg.norm(db,norm))\n",
    "    #print(kappa_c)\n",
    "    kappa_est = max(kappa_c,kappa_est)\n",
    "\n",
    "\n",
    "print(\"Estimat kondisjonstall:\", kappa_est)\n",
    "print(\"Kondisjonstall/estimat:\", condA2/kappa_est)"
   ]
  },
  {
   "cell_type": "markdown",
   "metadata": {},
   "source": [
    "Den overstående koden itererer over numeriske utregninger av det fakiske forholdet av den relative pertubasjonen av output $x$ og input $b$ for en fiksert $b$ med tilfeldige perturbasjoner $\\delta b$, og returnerer det maksimale forholdet over alle iterasjoner. Vi ser at den den øvre skranken for kondisjonstallet ikke er nær å overskrides. \n",
    "\n",
    "Dette er imidlertid en ineffektiv måte å estimere kondisjonstallet på. Kondisjonstallet representerer en teoretisk 'worst-case', som ikke nødvendigvis trenger å inntreffe."
   ]
  },
  {
   "cell_type": "markdown",
   "metadata": {},
   "source": [
    "## Oppgave 1.5"
   ]
  }
 ],
 "metadata": {
  "kernelspec": {
   "display_name": "Python 3",
   "language": "python",
   "name": "python3"
  },
  "language_info": {
   "codemirror_mode": {
    "name": "ipython",
    "version": 3
   },
   "file_extension": ".py",
   "mimetype": "text/x-python",
   "name": "python",
   "nbconvert_exporter": "python",
   "pygments_lexer": "ipython3",
   "version": "3.6.3"
  },
  "latex_envs": {
   "LaTeX_envs_menu_present": true,
   "autoclose": true,
   "autocomplete": true,
   "bibliofile": "biblio.bib",
   "cite_by": "apalike",
   "current_citInitial": 1,
   "eqLabelWithNumbers": true,
   "eqNumInitial": 1,
   "hotkeys": {
    "equation": "Ctrl-E",
    "itemize": "Ctrl-I"
   },
   "labels_anchors": false,
   "latex_user_defs": false,
   "report_style_numbering": false,
   "user_envs_cfg": false
  }
 },
 "nbformat": 4,
 "nbformat_minor": 2
}
